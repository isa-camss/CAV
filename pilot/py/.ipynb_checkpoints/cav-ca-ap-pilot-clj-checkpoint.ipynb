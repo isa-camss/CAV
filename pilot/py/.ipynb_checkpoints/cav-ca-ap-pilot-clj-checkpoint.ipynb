{
 "cells": [
  {
   "cell_type": "code",
   "execution_count": 12,
   "metadata": {},
   "outputs": [
    {
     "data": {
      "text/plain": [
       "nil"
      ]
     },
     "execution_count": 12,
     "metadata": {},
     "output_type": "execute_result"
    }
   ],
   "source": [
    "(require '[clojupyter.misc.helper :as helper])\n",
    "(helper/add-dependencies '[panthera \"0.1-alpha.20\"])\n",
    "(require '[panthera.panthera :as pt])\n",
    "(require '[clojupyter.display :as display])\n",
    "(require '[libpython-clj.python :as py])"
   ]
  },
  {
   "cell_type": "code",
   "execution_count": 13,
   "metadata": {},
   "outputs": [
    {
     "data": {
      "text/plain": [
       "#'user/show"
      ]
     },
     "execution_count": 13,
     "metadata": {},
     "output_type": "execute_result"
    }
   ],
   "source": [
    "; prepare layout-ing info\n",
    "(defn show\n",
    "  [obj]\n",
    "  (print obj)\n",
    "  #_(display/html\n",
    "    (py/call-attr obj \"to_html\")))"
   ]
  },
  {
   "cell_type": "code",
   "execution_count": 20,
   "metadata": {},
   "outputs": [
    {
     "data": {
      "text/plain": [
       "            EVALUATOR 1  Unnamed: 9  ... Unnamed: 41 Unnamed: 42\n",
       "0                    NaN        NaN  ...         NaN         NaN\n",
       "1    1. Quality aspect 1        NaN  ...         NaN         NaN\n",
       "2                    NaN          A  ...           I           L\n",
       "3                      A        NaN  ...          I2          A3\n",
       "4                      B        NaN  ...           1          B5\n",
       "..                   ...        ...  ...         ...         ...\n",
       "128                    F        NaN  ...           1          F2\n",
       "129                    G        NaN  ...          I3          L2\n",
       "130                    H        NaN  ...           1          H2\n",
       "131                    I        NaN  ...         NaN          I2\n",
       "132                    L        NaN  ...         NaN         NaN\n",
       "\n",
       "[133 rows x 35 columns]"
      ]
     },
     "execution_count": 20,
     "metadata": {},
     "output_type": "execute_result"
    }
   ],
   "source": [
    "; read Evaluator's input \n",
    "(def dataset (pt/read-excel \"evaluation-tool.xlsm\" {:sheet-name \"REPORTS PER EVALUATOR\"}))\n",
    "; drop unnecessary rows and columns \n",
    "(pt/drop-rows dataset [0 1]) \n",
    "(pt/drop-cols dataset [:Valutazione \"Unnamed: 1\" \"Unnamed: 2\" \"Unnamed: 3\" \"Unnamed: 4\" \"Unnamed: 5\" \"Unnamed: 6\" \"Unnamed: 7\"])"
   ]
  }
 ],
 "metadata": {
  "kernelspec": {
   "display_name": "Clojure (clojupyter=0.3.2=1)",
   "language": "clojure",
   "name": "conda-clojupyter"
  },
  "language_info": {
   "file_extension": ".clj",
   "mimetype": "text/x-clojure",
   "name": "clojure",
   "version": "1.10.1"
  }
 },
 "nbformat": 4,
 "nbformat_minor": 4
}
